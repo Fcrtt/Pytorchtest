{
 "cells": [
  {
   "metadata": {},
   "cell_type": "markdown",
   "source": "Imports :",
   "id": "49d3dfb920b1fdcd"
  },
  {
   "cell_type": "code",
   "id": "initial_id",
   "metadata": {
    "collapsed": true,
    "ExecuteTime": {
     "end_time": "2024-04-28T15:35:21.177281Z",
     "start_time": "2024-04-28T15:35:21.173630Z"
    }
   },
   "source": [
    "from tpot import TPOTClassifier\n",
    "from sklearn.datasets import load_digits\n",
    "from sklearn.model_selection import train_test_split"
   ],
   "outputs": [],
   "execution_count": 9
  },
  {
   "metadata": {},
   "cell_type": "markdown",
   "source": "Optimized pipeline :",
   "id": "ff2c6553ea6ee8bc"
  },
  {
   "metadata": {
    "ExecuteTime": {
     "end_time": "2024-04-28T15:35:21.219381Z",
     "start_time": "2024-04-28T15:35:21.195311Z"
    }
   },
   "cell_type": "code",
   "source": [
    "data = load_digits()\n",
    "X_train, X_test, y_train, y_test = train_test_split(data.data, data.target, test_size=0.25, random_state=42)\n",
    "pipeline_optimizer = TPOTClassifier(generations=10, population_size=20, cv=5, verbosity=2, random_state=42)"
   ],
   "id": "7d9788dca12d7d1b",
   "outputs": [],
   "execution_count": 10
  },
  {
   "metadata": {},
   "cell_type": "markdown",
   "source": "Train, test, score :",
   "id": "bf605dba94a1fde5"
  },
  {
   "metadata": {
    "ExecuteTime": {
     "end_time": "2024-04-28T15:40:40.858891Z",
     "start_time": "2024-04-28T15:35:21.220390Z"
    }
   },
   "cell_type": "code",
   "source": [
    "pipeline_optimizer.fit(X_train, y_train)\n",
    "pipeline_optimizer.score(X_train, y_train)"
   ],
   "id": "8205e10d9a667551",
   "outputs": [
    {
     "data": {
      "text/plain": [
       "Optimization Progress:   0%|          | 0/220 [00:00<?, ?pipeline/s]"
      ],
      "application/vnd.jupyter.widget-view+json": {
       "version_major": 2,
       "version_minor": 0,
       "model_id": "d5e692c284754d0b8b2422683372c836"
      }
     },
     "metadata": {},
     "output_type": "display_data"
    },
    {
     "name": "stdout",
     "output_type": "stream",
     "text": [
      "\n",
      "Generation 1 - Current best internal CV score: 0.9799531873881315\n",
      "\n",
      "Generation 2 - Current best internal CV score: 0.9866363761531047\n",
      "\n",
      "Generation 3 - Current best internal CV score: 0.9866363761531047\n",
      "\n",
      "Generation 4 - Current best internal CV score: 0.9866363761531047\n",
      "\n",
      "Generation 5 - Current best internal CV score: 0.9866363761531047\n",
      "\n",
      "Generation 6 - Current best internal CV score: 0.9866363761531047\n",
      "\n",
      "Generation 7 - Current best internal CV score: 0.9866363761531047\n",
      "\n",
      "Generation 8 - Current best internal CV score: 0.9866363761531047\n",
      "\n",
      "Generation 9 - Current best internal CV score: 0.9866363761531047\n",
      "\n",
      "Generation 10 - Current best internal CV score: 0.9866363761531047\n",
      "\n",
      "Best pipeline: KNeighborsClassifier(input_matrix, n_neighbors=2, p=2, weights=distance)\n"
     ]
    },
    {
     "data": {
      "text/plain": [
       "1.0"
      ]
     },
     "execution_count": 11,
     "metadata": {},
     "output_type": "execute_result"
    }
   ],
   "execution_count": 11
  },
  {
   "metadata": {},
   "cell_type": "markdown",
   "source": "Export :",
   "id": "afbb412f6511a216"
  },
  {
   "metadata": {
    "ExecuteTime": {
     "end_time": "2024-04-28T15:40:40.864810Z",
     "start_time": "2024-04-28T15:40:40.859800Z"
    }
   },
   "cell_type": "code",
   "source": "pipeline_optimizer.export('exported_tpot_pipeline.py')",
   "id": "6ed5afc3ca0d93b8",
   "outputs": [],
   "execution_count": 12
  }
 ],
 "metadata": {
  "kernelspec": {
   "display_name": "Python 3",
   "language": "python",
   "name": "python3"
  },
  "language_info": {
   "codemirror_mode": {
    "name": "ipython",
    "version": 2
   },
   "file_extension": ".py",
   "mimetype": "text/x-python",
   "name": "python",
   "nbconvert_exporter": "python",
   "pygments_lexer": "ipython2",
   "version": "2.7.6"
  }
 },
 "nbformat": 4,
 "nbformat_minor": 5
}
