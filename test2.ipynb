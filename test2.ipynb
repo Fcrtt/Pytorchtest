{
 "cells": [
  {
   "metadata": {},
   "cell_type": "markdown",
   "source": "NUMPY ONLY :",
   "id": "ded5bdb80df5fcea"
  },
  {
   "cell_type": "code",
   "id": "initial_id",
   "metadata": {
    "collapsed": true,
    "ExecuteTime": {
     "end_time": "2024-04-29T13:23:50.700119Z",
     "start_time": "2024-04-29T13:23:50.537388Z"
    }
   },
   "source": [
    "import numpy as np\n",
    "import math"
   ],
   "outputs": [],
   "execution_count": 1
  },
  {
   "metadata": {},
   "cell_type": "markdown",
   "source": "Create random input and output data :",
   "id": "58c3e73d44989dff"
  },
  {
   "metadata": {
    "ExecuteTime": {
     "end_time": "2024-04-29T13:23:50.704365Z",
     "start_time": "2024-04-29T13:23:50.701129Z"
    }
   },
   "cell_type": "code",
   "source": [
    "x = np.linspace(-math.pi, math.pi, 2000)\n",
    "y = np.sin(x)"
   ],
   "id": "de90ae2ee038c24a",
   "outputs": [],
   "execution_count": 2
  },
  {
   "metadata": {},
   "cell_type": "markdown",
   "source": "Randomly initialize weights :",
   "id": "18e74dada0ee9650"
  },
  {
   "metadata": {
    "ExecuteTime": {
     "end_time": "2024-04-29T13:23:50.711227Z",
     "start_time": "2024-04-29T13:23:50.705372Z"
    }
   },
   "cell_type": "code",
   "source": [
    "a = np.random.randn()\n",
    "b = np.random.randn()\n",
    "c = np.random.randn()\n",
    "d = np.random.randn()"
   ],
   "id": "6ca0ff16466253e7",
   "outputs": [],
   "execution_count": 3
  },
  {
   "metadata": {
    "ExecuteTime": {
     "end_time": "2024-04-29T13:23:50.967575Z",
     "start_time": "2024-04-29T13:23:50.712239Z"
    }
   },
   "cell_type": "code",
   "source": [
    "learning_rate = 1e-6\n",
    "for t in range(2000):\n",
    "    y_pred = a + b * x + c * x ** 2 + d * x ** 3\n",
    "    loss = np.square(y_pred - y).sum()\n",
    "    if t % 100 == 99:\n",
    "        print(t, loss)\n",
    "\n",
    "    grad_y_pred = 2.0 * (y_pred - y)\n",
    "    grad_a = grad_y_pred.sum()\n",
    "    grad_b = (grad_y_pred * x).sum()\n",
    "    grad_c = (grad_y_pred * x ** 2).sum()\n",
    "    grad_d = (grad_y_pred * x ** 3).sum()\n",
    "\n",
    "    a -= learning_rate * grad_a\n",
    "    b -= learning_rate * grad_b\n",
    "    c -= learning_rate * grad_c\n",
    "    d -= learning_rate * grad_d"
   ],
   "id": "125aedcb704713e0",
   "outputs": [
    {
     "name": "stdout",
     "output_type": "stream",
     "text": [
      "99 292.8077486753589\n",
      "199 209.5576537026786\n",
      "299 150.72393616763134\n",
      "399 109.14017583232953\n",
      "499 79.74642456224899\n",
      "599 58.967746513489864\n",
      "699 44.27813047375616\n",
      "799 33.89255138667323\n",
      "899 26.54949333093382\n",
      "999 21.3573399084035\n",
      "1099 17.685862796809875\n",
      "1199 15.089559489378729\n",
      "1299 13.253486451327694\n",
      "1399 11.954982955825368\n",
      "1499 11.0366213153617\n",
      "1599 10.38708914696992\n",
      "1699 9.927676593814944\n",
      "1799 9.602724508409915\n",
      "1899 9.372872050220533\n",
      "1999 9.210282935598917\n"
     ]
    }
   ],
   "execution_count": 4
  },
  {
   "metadata": {
    "ExecuteTime": {
     "end_time": "2024-04-29T13:23:50.971609Z",
     "start_time": "2024-04-29T13:23:50.968580Z"
    }
   },
   "cell_type": "code",
   "source": "print(f'Result: y = {a} + {b} x + {c} x^2 + {d} x^3')",
   "id": "807cbb9e059e0d36",
   "outputs": [
    {
     "name": "stdout",
     "output_type": "stream",
     "text": [
      "Result: y = 0.020937011634937636 + 0.8554130258614473 x + -0.0036119829004041598 x^2 + -0.0931415186048779 x^3\n"
     ]
    }
   ],
   "execution_count": 5
  },
  {
   "metadata": {},
   "cell_type": "markdown",
   "source": "PYTORCH TENSORS",
   "id": "6eca37eb585104cb"
  },
  {
   "metadata": {
    "ExecuteTime": {
     "end_time": "2024-04-29T13:26:59.235506Z",
     "start_time": "2024-04-29T13:26:56.240959Z"
    }
   },
   "cell_type": "code",
   "source": "import torch",
   "id": "12103a2f4048358c",
   "outputs": [],
   "execution_count": 6
  },
  {
   "metadata": {
    "ExecuteTime": {
     "end_time": "2024-04-29T13:27:00.200593Z",
     "start_time": "2024-04-29T13:27:00.114098Z"
    }
   },
   "cell_type": "code",
   "source": [
    "dtype = torch.float\n",
    "print(torch.cuda.is_available())"
   ],
   "id": "e0cdb1cb833d75f8",
   "outputs": [
    {
     "name": "stdout",
     "output_type": "stream",
     "text": [
      "True\n"
     ]
    }
   ],
   "execution_count": 7
  },
  {
   "metadata": {
    "ExecuteTime": {
     "end_time": "2024-04-29T13:29:16.298905Z",
     "start_time": "2024-04-29T13:29:16.292885Z"
    }
   },
   "cell_type": "code",
   "source": [
    "device = torch.device('cuda:0' if torch.cuda.is_available() else 'cpu')\n",
    "print(device)"
   ],
   "id": "59fd5df2800ab521",
   "outputs": [
    {
     "name": "stdout",
     "output_type": "stream",
     "text": [
      "cuda:0\n"
     ]
    }
   ],
   "execution_count": 8
  },
  {
   "metadata": {},
   "cell_type": "markdown",
   "source": "Create random input and output data :",
   "id": "1f813fc7f0e4c208"
  },
  {
   "metadata": {
    "ExecuteTime": {
     "end_time": "2024-04-29T13:29:20.915085Z",
     "start_time": "2024-04-29T13:29:20.567576Z"
    }
   },
   "cell_type": "code",
   "source": [
    "x = torch.linspace(-math.pi, math.pi, 2000, device=device, dtype=dtype)\n",
    "y = torch.sin(x)"
   ],
   "id": "aefb021b9bce10c1",
   "outputs": [],
   "execution_count": 9
  },
  {
   "metadata": {},
   "cell_type": "markdown",
   "source": "Randomly initialize weights",
   "id": "687db02052d7a126"
  },
  {
   "metadata": {
    "ExecuteTime": {
     "end_time": "2024-04-29T13:29:24.947807Z",
     "start_time": "2024-04-29T13:29:23.770910Z"
    }
   },
   "cell_type": "code",
   "source": [
    "a = torch.randn((), device=device, dtype=dtype)\n",
    "b = torch.randn((), device=device, dtype=dtype)\n",
    "c = torch.randn((), device=device, dtype=dtype)\n",
    "d = torch.randn((), device=device, dtype=dtype)\n",
    "\n",
    "learning_rate = 1e-6\n",
    "for t in range(2000):\n",
    "    y_pred = a + b * x + c * x ** 2 + d * x ** 3\n",
    "\n",
    "    loss = (y_pred - y).pow(2).sum().item()\n",
    "    if t % 100 == 99:\n",
    "        print(t, loss)\n",
    "\n",
    "    grad_y_pred = 2.0 * (y_pred - y)\n",
    "    grad_a = grad_y_pred.sum()\n",
    "    grad_b = (grad_y_pred * x).sum()\n",
    "    grad_c = (grad_y_pred * x ** 2).sum()\n",
    "    grad_d = (grad_y_pred * x ** 3).sum()\n",
    "\n",
    "    a -= learning_rate * grad_a\n",
    "    b -= learning_rate * grad_b\n",
    "    c -= learning_rate * grad_c\n",
    "    d -= learning_rate * grad_d"
   ],
   "id": "a46486280cfc836b",
   "outputs": [
    {
     "name": "stdout",
     "output_type": "stream",
     "text": [
      "99 321.5904541015625\n",
      "199 224.08160400390625\n",
      "299 157.13629150390625\n",
      "399 111.12176513671875\n",
      "499 79.45854187011719\n",
      "599 57.646385192871094\n",
      "699 42.60408020019531\n",
      "799 32.219154357910156\n",
      "899 25.04216766357422\n",
      "999 20.07701873779297\n",
      "1099 16.638534545898438\n",
      "1199 14.254985809326172\n",
      "1299 12.60111141204834\n",
      "1399 11.452474594116211\n",
      "1499 10.654008865356445\n",
      "1599 10.098470687866211\n",
      "1699 9.711623191833496\n",
      "1799 9.442018508911133\n",
      "1899 9.253982543945312\n",
      "1999 9.122734069824219\n"
     ]
    }
   ],
   "execution_count": 10
  },
  {
   "metadata": {
    "ExecuteTime": {
     "end_time": "2024-04-29T13:29:26.403916Z",
     "start_time": "2024-04-29T13:29:26.399471Z"
    }
   },
   "cell_type": "code",
   "source": "print(f'Result: y = {a.item()} + {b.item()} x + {c.item()} x^2 + {d.item()} x^3')",
   "id": "97288d33c38e241a",
   "outputs": [
    {
     "name": "stdout",
     "output_type": "stream",
     "text": [
      "Result: y = -0.016903825104236603 + 0.8498306274414062 x + 0.002916188444942236 x^2 + -0.09234746545553207 x^3\n"
     ]
    }
   ],
   "execution_count": 11
  },
  {
   "metadata": {},
   "cell_type": "markdown",
   "source": "PYTORCH TENSORS AND AUTOGRAD :",
   "id": "14abf52b90a432ee"
  },
  {
   "metadata": {
    "ExecuteTime": {
     "end_time": "2024-04-29T13:34:00.558416Z",
     "start_time": "2024-04-29T13:34:00.501048Z"
    }
   },
   "cell_type": "code",
   "source": [
    "dtype = torch.float\n",
    "device = \"cuda\" if torch.cuda.is_available() else \"cpu\"\n",
    "torch.set_default_device(device)"
   ],
   "id": "a7c0fa6dd50eef44",
   "outputs": [],
   "execution_count": 12
  },
  {
   "metadata": {},
   "cell_type": "markdown",
   "source": "Create tensors to hold input and outputs :",
   "id": "e5e6a9d20c361238"
  },
  {
   "metadata": {
    "ExecuteTime": {
     "end_time": "2024-04-29T13:34:02.322842Z",
     "start_time": "2024-04-29T13:34:02.310991Z"
    }
   },
   "cell_type": "code",
   "source": [
    "x = torch.linspace(-math.pi, math.pi, 2000, dtype=dtype)\n",
    "y = torch.sin(x)"
   ],
   "id": "565ce4bfe6f2ad3",
   "outputs": [],
   "execution_count": 13
  },
  {
   "metadata": {},
   "cell_type": "markdown",
   "source": "Create random Tensors for weights :",
   "id": "f7a5d99743acea64"
  },
  {
   "metadata": {
    "ExecuteTime": {
     "end_time": "2024-04-29T13:34:06.190940Z",
     "start_time": "2024-04-29T13:34:04.042779Z"
    }
   },
   "cell_type": "code",
   "source": [
    "a = torch.randn((), dtype=dtype, requires_grad=True)\n",
    "b = torch.randn((), dtype=dtype, requires_grad=True)\n",
    "c = torch.randn((), dtype=dtype, requires_grad=True)\n",
    "d = torch.randn((), dtype=dtype, requires_grad=True)\n",
    "\n",
    "learning_rate = 1e-6\n",
    "for t in range(2000):\n",
    "    \n",
    "    y_pred = a + b * x + c * x ** 2 + d * x ** 3\n",
    "\n",
    "    loss = (y_pred - y).pow(2).sum()\n",
    "    if t % 100 == 99:\n",
    "        print(t, loss.item())\n",
    "\n",
    "    loss.backward()\n",
    "\n",
    "    with torch.no_grad():\n",
    "        a -= learning_rate * a.grad\n",
    "        b -= learning_rate * b.grad\n",
    "        c -= learning_rate * c.grad\n",
    "        d -= learning_rate * d.grad\n",
    "\n",
    "        a.grad = None\n",
    "        b.grad = None\n",
    "        c.grad = None\n",
    "        d.grad = None"
   ],
   "id": "1e43e70bbff5acb4",
   "outputs": [
    {
     "name": "stdout",
     "output_type": "stream",
     "text": [
      "99 65.70359802246094\n",
      "199 46.53913116455078\n",
      "299 33.835899353027344\n",
      "399 25.41389274597168\n",
      "499 19.82936668395996\n",
      "599 16.12554931640625\n",
      "699 13.668678283691406\n",
      "799 12.038566589355469\n",
      "899 10.956720352172852\n",
      "999 10.238628387451172\n",
      "1099 9.761818885803223\n",
      "1199 9.445165634155273\n",
      "1299 9.2347993850708\n",
      "1399 9.095003128051758\n",
      "1499 9.002058029174805\n",
      "1599 8.940264701843262\n",
      "1699 8.89915943145752\n",
      "1799 8.871807098388672\n",
      "1899 8.853594779968262\n",
      "1999 8.84146499633789\n"
     ]
    }
   ],
   "execution_count": 14
  },
  {
   "metadata": {
    "ExecuteTime": {
     "end_time": "2024-04-29T13:34:07.824325Z",
     "start_time": "2024-04-29T13:34:07.820124Z"
    }
   },
   "cell_type": "code",
   "source": "print(f'Result: y = {a.item()} + {b.item()} x + {c.item()} x^2 + {d.item()} x^3')",
   "id": "dbf7e11bd7396d71",
   "outputs": [
    {
     "name": "stdout",
     "output_type": "stream",
     "text": [
      "Result: y = -0.0018936494598165154 + 0.8522757887840271 x + 0.0003266853163950145 x^2 + -0.09269527345895767 x^3\n"
     ]
    }
   ],
   "execution_count": 15
  },
  {
   "metadata": {},
   "cell_type": "code",
   "outputs": [],
   "execution_count": null,
   "source": "",
   "id": "da9fdc027cfb42e"
  }
 ],
 "metadata": {
  "kernelspec": {
   "display_name": "Python 3",
   "language": "python",
   "name": "python3"
  },
  "language_info": {
   "codemirror_mode": {
    "name": "ipython",
    "version": 2
   },
   "file_extension": ".py",
   "mimetype": "text/x-python",
   "name": "python",
   "nbconvert_exporter": "python",
   "pygments_lexer": "ipython2",
   "version": "2.7.6"
  }
 },
 "nbformat": 4,
 "nbformat_minor": 5
}
