{
 "cells": [
  {
   "metadata": {},
   "cell_type": "markdown",
   "source": [
    "NUMPY ONLY :\n",
    "Nous pouvons facilement utiliser numpy pour ajuster un polynôme de troisième ordre à une fonction sinus en implémentant manuellement les forward et backward passes à travers le réseau à l'aide d'opérations numpy"
   ],
   "id": "ded5bdb80df5fcea"
  },
  {
   "cell_type": "code",
   "id": "initial_id",
   "metadata": {
    "collapsed": true,
    "ExecuteTime": {
     "end_time": "2024-04-29T13:23:50.700119Z",
     "start_time": "2024-04-29T13:23:50.537388Z"
    }
   },
   "source": [
    "import numpy as np\n",
    "import math"
   ],
   "outputs": [],
   "execution_count": 1
  },
  {
   "metadata": {},
   "cell_type": "markdown",
   "source": "Create random input and output data :",
   "id": "58c3e73d44989dff"
  },
  {
   "metadata": {
    "ExecuteTime": {
     "end_time": "2024-04-29T13:23:50.704365Z",
     "start_time": "2024-04-29T13:23:50.701129Z"
    }
   },
   "cell_type": "code",
   "source": [
    "x = np.linspace(-math.pi, math.pi, 2000)\n",
    "y = np.sin(x)"
   ],
   "id": "de90ae2ee038c24a",
   "outputs": [],
   "execution_count": 2
  },
  {
   "metadata": {},
   "cell_type": "markdown",
   "source": "Randomly initialize weights :",
   "id": "18e74dada0ee9650"
  },
  {
   "metadata": {
    "ExecuteTime": {
     "end_time": "2024-04-29T13:23:50.711227Z",
     "start_time": "2024-04-29T13:23:50.705372Z"
    }
   },
   "cell_type": "code",
   "source": [
    "a = np.random.randn()\n",
    "b = np.random.randn()\n",
    "c = np.random.randn()\n",
    "d = np.random.randn()"
   ],
   "id": "6ca0ff16466253e7",
   "outputs": [],
   "execution_count": 3
  },
  {
   "metadata": {
    "ExecuteTime": {
     "end_time": "2024-04-29T13:23:50.967575Z",
     "start_time": "2024-04-29T13:23:50.712239Z"
    }
   },
   "cell_type": "code",
   "source": [
    "learning_rate = 1e-6\n",
    "for t in range(2000):\n",
    "    y_pred = a + b * x + c * x ** 2 + d * x ** 3\n",
    "    loss = np.square(y_pred - y).sum()\n",
    "    if t % 100 == 99:\n",
    "        print(t, loss)\n",
    "\n",
    "    grad_y_pred = 2.0 * (y_pred - y)\n",
    "    grad_a = grad_y_pred.sum()\n",
    "    grad_b = (grad_y_pred * x).sum()\n",
    "    grad_c = (grad_y_pred * x ** 2).sum()\n",
    "    grad_d = (grad_y_pred * x ** 3).sum()\n",
    "\n",
    "    a -= learning_rate * grad_a\n",
    "    b -= learning_rate * grad_b\n",
    "    c -= learning_rate * grad_c\n",
    "    d -= learning_rate * grad_d"
   ],
   "id": "125aedcb704713e0",
   "outputs": [
    {
     "name": "stdout",
     "output_type": "stream",
     "text": [
      "99 292.8077486753589\n",
      "199 209.5576537026786\n",
      "299 150.72393616763134\n",
      "399 109.14017583232953\n",
      "499 79.74642456224899\n",
      "599 58.967746513489864\n",
      "699 44.27813047375616\n",
      "799 33.89255138667323\n",
      "899 26.54949333093382\n",
      "999 21.3573399084035\n",
      "1099 17.685862796809875\n",
      "1199 15.089559489378729\n",
      "1299 13.253486451327694\n",
      "1399 11.954982955825368\n",
      "1499 11.0366213153617\n",
      "1599 10.38708914696992\n",
      "1699 9.927676593814944\n",
      "1799 9.602724508409915\n",
      "1899 9.372872050220533\n",
      "1999 9.210282935598917\n"
     ]
    }
   ],
   "execution_count": 4
  },
  {
   "metadata": {
    "ExecuteTime": {
     "end_time": "2024-04-29T13:23:50.971609Z",
     "start_time": "2024-04-29T13:23:50.968580Z"
    }
   },
   "cell_type": "code",
   "source": "print(f'Result: y = {a} + {b} x + {c} x^2 + {d} x^3')",
   "id": "807cbb9e059e0d36",
   "outputs": [
    {
     "name": "stdout",
     "output_type": "stream",
     "text": [
      "Result: y = 0.020937011634937636 + 0.8554130258614473 x + -0.0036119829004041598 x^2 + -0.0931415186048779 x^3\n"
     ]
    }
   ],
   "execution_count": 5
  },
  {
   "metadata": {},
   "cell_type": "markdown",
   "source": [
    "PYTORCH TENSORS :\n",
    "Ici, nous utilisons les Tensors PyTorch pour ajuster un polynôme de troisième ordre à une fonction sinus. Comme dans l'exemple numpy ci-dessus, nous devons implémenter manuellement les forward et backward passes à travers le réseau.\n"
   ],
   "id": "6eca37eb585104cb"
  },
  {
   "metadata": {
    "ExecuteTime": {
     "end_time": "2024-04-29T13:26:59.235506Z",
     "start_time": "2024-04-29T13:26:56.240959Z"
    }
   },
   "cell_type": "code",
   "source": "import torch",
   "id": "12103a2f4048358c",
   "outputs": [],
   "execution_count": 6
  },
  {
   "metadata": {
    "ExecuteTime": {
     "end_time": "2024-04-29T13:27:00.200593Z",
     "start_time": "2024-04-29T13:27:00.114098Z"
    }
   },
   "cell_type": "code",
   "source": [
    "dtype = torch.float\n",
    "print(torch.cuda.is_available())"
   ],
   "id": "e0cdb1cb833d75f8",
   "outputs": [
    {
     "name": "stdout",
     "output_type": "stream",
     "text": [
      "True\n"
     ]
    }
   ],
   "execution_count": 7
  },
  {
   "metadata": {
    "ExecuteTime": {
     "end_time": "2024-04-29T13:29:16.298905Z",
     "start_time": "2024-04-29T13:29:16.292885Z"
    }
   },
   "cell_type": "code",
   "source": [
    "device = torch.device('cuda:0' if torch.cuda.is_available() else 'cpu')\n",
    "print(device)"
   ],
   "id": "59fd5df2800ab521",
   "outputs": [
    {
     "name": "stdout",
     "output_type": "stream",
     "text": [
      "cuda:0\n"
     ]
    }
   ],
   "execution_count": 8
  },
  {
   "metadata": {},
   "cell_type": "markdown",
   "source": "Create random input and output data :",
   "id": "1f813fc7f0e4c208"
  },
  {
   "metadata": {
    "ExecuteTime": {
     "end_time": "2024-04-29T13:29:20.915085Z",
     "start_time": "2024-04-29T13:29:20.567576Z"
    }
   },
   "cell_type": "code",
   "source": [
    "x = torch.linspace(-math.pi, math.pi, 2000, device=device, dtype=dtype)\n",
    "y = torch.sin(x)"
   ],
   "id": "aefb021b9bce10c1",
   "outputs": [],
   "execution_count": 9
  },
  {
   "metadata": {},
   "cell_type": "markdown",
   "source": "Randomly initialize weights",
   "id": "687db02052d7a126"
  },
  {
   "metadata": {
    "ExecuteTime": {
     "end_time": "2024-04-29T13:29:24.947807Z",
     "start_time": "2024-04-29T13:29:23.770910Z"
    }
   },
   "cell_type": "code",
   "source": [
    "a = torch.randn((), device=device, dtype=dtype)\n",
    "b = torch.randn((), device=device, dtype=dtype)\n",
    "c = torch.randn((), device=device, dtype=dtype)\n",
    "d = torch.randn((), device=device, dtype=dtype)\n",
    "\n",
    "learning_rate = 1e-6\n",
    "for t in range(2000):\n",
    "    y_pred = a + b * x + c * x ** 2 + d * x ** 3\n",
    "\n",
    "    loss = (y_pred - y).pow(2).sum().item()\n",
    "    if t % 100 == 99:\n",
    "        print(t, loss)\n",
    "\n",
    "    grad_y_pred = 2.0 * (y_pred - y)\n",
    "    grad_a = grad_y_pred.sum()\n",
    "    grad_b = (grad_y_pred * x).sum()\n",
    "    grad_c = (grad_y_pred * x ** 2).sum()\n",
    "    grad_d = (grad_y_pred * x ** 3).sum()\n",
    "\n",
    "    a -= learning_rate * grad_a\n",
    "    b -= learning_rate * grad_b\n",
    "    c -= learning_rate * grad_c\n",
    "    d -= learning_rate * grad_d"
   ],
   "id": "a46486280cfc836b",
   "outputs": [
    {
     "name": "stdout",
     "output_type": "stream",
     "text": [
      "99 321.5904541015625\n",
      "199 224.08160400390625\n",
      "299 157.13629150390625\n",
      "399 111.12176513671875\n",
      "499 79.45854187011719\n",
      "599 57.646385192871094\n",
      "699 42.60408020019531\n",
      "799 32.219154357910156\n",
      "899 25.04216766357422\n",
      "999 20.07701873779297\n",
      "1099 16.638534545898438\n",
      "1199 14.254985809326172\n",
      "1299 12.60111141204834\n",
      "1399 11.452474594116211\n",
      "1499 10.654008865356445\n",
      "1599 10.098470687866211\n",
      "1699 9.711623191833496\n",
      "1799 9.442018508911133\n",
      "1899 9.253982543945312\n",
      "1999 9.122734069824219\n"
     ]
    }
   ],
   "execution_count": 10
  },
  {
   "metadata": {
    "ExecuteTime": {
     "end_time": "2024-04-29T13:29:26.403916Z",
     "start_time": "2024-04-29T13:29:26.399471Z"
    }
   },
   "cell_type": "code",
   "source": "print(f'Result: y = {a.item()} + {b.item()} x + {c.item()} x^2 + {d.item()} x^3')",
   "id": "97288d33c38e241a",
   "outputs": [
    {
     "name": "stdout",
     "output_type": "stream",
     "text": [
      "Result: y = -0.016903825104236603 + 0.8498306274414062 x + 0.002916188444942236 x^2 + -0.09234746545553207 x^3\n"
     ]
    }
   ],
   "execution_count": 11
  },
  {
   "metadata": {},
   "cell_type": "markdown",
   "source": [
    "PYTORCH TENSORS AND AUTOGRAD :\n",
    "Dans les exemples ci-dessus, nous avons dû implémenter manuellement à la fois les forward et backward passes de notre réseau neuronal. Ici, nous utilisons des Tensors PyTorch et autograd pour implémenter notre exemple d'ajustement de la sinusoïde avec un polynôme du troisième ordre."
   ],
   "id": "14abf52b90a432ee"
  },
  {
   "metadata": {
    "ExecuteTime": {
     "end_time": "2024-04-29T13:34:00.558416Z",
     "start_time": "2024-04-29T13:34:00.501048Z"
    }
   },
   "cell_type": "code",
   "source": [
    "dtype = torch.float\n",
    "device = \"cuda\" if torch.cuda.is_available() else \"cpu\"\n",
    "torch.set_default_device(device)"
   ],
   "id": "a7c0fa6dd50eef44",
   "outputs": [],
   "execution_count": 12
  },
  {
   "metadata": {},
   "cell_type": "markdown",
   "source": "Create tensors to hold input and outputs :",
   "id": "e5e6a9d20c361238"
  },
  {
   "metadata": {
    "ExecuteTime": {
     "end_time": "2024-04-29T13:34:02.322842Z",
     "start_time": "2024-04-29T13:34:02.310991Z"
    }
   },
   "cell_type": "code",
   "source": [
    "x = torch.linspace(-math.pi, math.pi, 2000, dtype=dtype)\n",
    "y = torch.sin(x)"
   ],
   "id": "565ce4bfe6f2ad3",
   "outputs": [],
   "execution_count": 13
  },
  {
   "metadata": {},
   "cell_type": "markdown",
   "source": "Create random Tensors for weights :",
   "id": "f7a5d99743acea64"
  },
  {
   "metadata": {
    "ExecuteTime": {
     "end_time": "2024-04-29T13:34:06.190940Z",
     "start_time": "2024-04-29T13:34:04.042779Z"
    }
   },
   "cell_type": "code",
   "source": [
    "a = torch.randn((), dtype=dtype, requires_grad=True)\n",
    "b = torch.randn((), dtype=dtype, requires_grad=True)\n",
    "c = torch.randn((), dtype=dtype, requires_grad=True)\n",
    "d = torch.randn((), dtype=dtype, requires_grad=True)\n",
    "\n",
    "learning_rate = 1e-6\n",
    "for t in range(2000):\n",
    "    \n",
    "    y_pred = a + b * x + c * x ** 2 + d * x ** 3\n",
    "\n",
    "    loss = (y_pred - y).pow(2).sum()\n",
    "    if t % 100 == 99:\n",
    "        print(t, loss.item())\n",
    "\n",
    "    loss.backward()\n",
    "\n",
    "    with torch.no_grad():\n",
    "        a -= learning_rate * a.grad\n",
    "        b -= learning_rate * b.grad\n",
    "        c -= learning_rate * c.grad\n",
    "        d -= learning_rate * d.grad\n",
    "\n",
    "        a.grad = None\n",
    "        b.grad = None\n",
    "        c.grad = None\n",
    "        d.grad = None"
   ],
   "id": "1e43e70bbff5acb4",
   "outputs": [
    {
     "name": "stdout",
     "output_type": "stream",
     "text": [
      "99 65.70359802246094\n",
      "199 46.53913116455078\n",
      "299 33.835899353027344\n",
      "399 25.41389274597168\n",
      "499 19.82936668395996\n",
      "599 16.12554931640625\n",
      "699 13.668678283691406\n",
      "799 12.038566589355469\n",
      "899 10.956720352172852\n",
      "999 10.238628387451172\n",
      "1099 9.761818885803223\n",
      "1199 9.445165634155273\n",
      "1299 9.2347993850708\n",
      "1399 9.095003128051758\n",
      "1499 9.002058029174805\n",
      "1599 8.940264701843262\n",
      "1699 8.89915943145752\n",
      "1799 8.871807098388672\n",
      "1899 8.853594779968262\n",
      "1999 8.84146499633789\n"
     ]
    }
   ],
   "execution_count": 14
  },
  {
   "metadata": {
    "ExecuteTime": {
     "end_time": "2024-04-29T13:34:07.824325Z",
     "start_time": "2024-04-29T13:34:07.820124Z"
    }
   },
   "cell_type": "code",
   "source": "print(f'Result: y = {a.item()} + {b.item()} x + {c.item()} x^2 + {d.item()} x^3')",
   "id": "dbf7e11bd7396d71",
   "outputs": [
    {
     "name": "stdout",
     "output_type": "stream",
     "text": [
      "Result: y = -0.0018936494598165154 + 0.8522757887840271 x + 0.0003266853163950145 x^2 + -0.09269527345895767 x^3\n"
     ]
    }
   ],
   "execution_count": 15
  },
  {
   "metadata": {},
   "cell_type": "markdown",
   "source": [
    "PYTORCH NN MODULE :\n",
    "Le package nn définit un ensemble de Modules, qui sont approximativement équivalents aux couches de réseau neuronal. Un Module reçoit des Tensors en entrée et calcule des Tensors en sortie, mais peut également contenir un état interne tel que des Tensors contenant des paramètres apprenables. Le package nn définit également un ensemble de fonctions de perte utiles qui sont couramment utilisées lors de l'entraînement de réseaux neuronaux.\n",
    "\n",
    "Dans cet exemple, nous utilisons le package nn pour implémenter notre modèle de réseau polynomial :"
   ],
   "id": "e6c015de72351347"
  },
  {
   "metadata": {
    "ExecuteTime": {
     "end_time": "2024-04-29T13:50:45.346253Z",
     "start_time": "2024-04-29T13:50:45.258175Z"
    }
   },
   "cell_type": "code",
   "source": [
    "x = torch.linspace(-math.pi, math.pi, 2000)\n",
    "y = torch.sin(x)"
   ],
   "id": "dc8d392cce72c51c",
   "outputs": [],
   "execution_count": 16
  },
  {
   "metadata": {
    "ExecuteTime": {
     "end_time": "2024-04-29T13:50:46.258434Z",
     "start_time": "2024-04-29T13:50:46.214817Z"
    }
   },
   "cell_type": "code",
   "source": [
    "p = torch.tensor([1, 2, 3])\n",
    "xx = x.unsqueeze(-1).pow(p)"
   ],
   "id": "51deb27c4a36648",
   "outputs": [],
   "execution_count": 17
  },
  {
   "metadata": {
    "ExecuteTime": {
     "end_time": "2024-04-29T13:50:47.108760Z",
     "start_time": "2024-04-29T13:50:47.039712Z"
    }
   },
   "cell_type": "code",
   "source": [
    "model = torch.nn.Sequential(\n",
    "    torch.nn.Linear(3, 1),\n",
    "    torch.nn.Flatten(0, 1)\n",
    ")\n",
    "loss_fn = torch.nn.MSELoss(reduction='sum')"
   ],
   "id": "862ad0ccdab32082",
   "outputs": [],
   "execution_count": 18
  },
  {
   "metadata": {
    "ExecuteTime": {
     "end_time": "2024-04-29T13:50:49.963276Z",
     "start_time": "2024-04-29T13:50:48.183674Z"
    }
   },
   "cell_type": "code",
   "source": [
    "learning_rate = 1e-6\n",
    "for t in range(2000):\n",
    "\n",
    "    y_pred = model(xx)\n",
    "\n",
    "    loss = loss_fn(y_pred, y)\n",
    "    if t % 100 == 99:\n",
    "        print(t, loss.item())\n",
    "\n",
    "    model.zero_grad()\n",
    "\n",
    "    loss.backward()\n",
    "\n",
    "    with torch.no_grad():\n",
    "        for param in model.parameters():\n",
    "            param -= learning_rate * param.grad"
   ],
   "id": "654c5e14aaea6645",
   "outputs": [
    {
     "name": "stdout",
     "output_type": "stream",
     "text": [
      "99 357.3081970214844\n",
      "199 241.27359008789062\n",
      "299 163.9561004638672\n",
      "399 112.41287231445312\n",
      "499 78.03446197509766\n",
      "599 55.092918395996094\n",
      "699 39.77490234375\n",
      "799 29.541290283203125\n",
      "899 22.70022201538086\n",
      "999 18.12415313720703\n",
      "1099 15.06118392944336\n",
      "1199 13.00955581665039\n",
      "1299 11.634340286254883\n",
      "1399 10.711843490600586\n",
      "1499 10.092530250549316\n",
      "1599 9.676429748535156\n",
      "1699 9.396629333496094\n",
      "1799 9.208311080932617\n",
      "1899 9.081441879272461\n",
      "1999 8.995912551879883\n"
     ]
    }
   ],
   "execution_count": 19
  },
  {
   "metadata": {
    "ExecuteTime": {
     "end_time": "2024-04-29T13:51:02.820400Z",
     "start_time": "2024-04-29T13:51:02.809465Z"
    }
   },
   "cell_type": "code",
   "source": "linear_layer = model[0]",
   "id": "d6979f0cc03f935e",
   "outputs": [],
   "execution_count": 20
  },
  {
   "metadata": {
    "ExecuteTime": {
     "end_time": "2024-04-29T13:51:04.121325Z",
     "start_time": "2024-04-29T13:51:04.107575Z"
    }
   },
   "cell_type": "code",
   "source": "print(f'Result: y = {linear_layer.bias.item()} + {linear_layer.weight[:, 0].item()} x + {linear_layer.weight[:, 1].item()} x^2 + {linear_layer.weight[:, 2].item()} x^3')",
   "id": "dd0ebce8f0458de9",
   "outputs": [
    {
     "name": "stdout",
     "output_type": "stream",
     "text": [
      "Result: y = -0.00826078001409769 + 0.8461886048316956 x + 0.0014251217944547534 x^2 + -0.09182941913604736 x^3\n"
     ]
    }
   ],
   "execution_count": 21
  },
  {
   "metadata": {},
   "cell_type": "markdown",
   "source": [
    "PYTORCH OPTIM :\n",
    "Jusqu'à présent, nous avons mis à jour les poids de nos modèles en modifiant manuellement les Tensors contenant les paramètres apprenables avec torch.no_grad(). Le package optim dans PyTorch abstrait l'idée d'un algorithme d'optimisation et fournit des implémentations d'algorithmes d'optimisation couramment utilisés.\n",
    "\n",
    "Dans cet exemple, nous utiliserons à nouveau le package nn pour définir notre modèle, mais nous optimiserons le modèle en utilisant l'algorithme RMSprop fourni par le package optim :"
   ],
   "id": "fec05953d51923fe"
  },
  {
   "metadata": {},
   "cell_type": "code",
   "source": [
    "x = torch.linspace(-math.pi, math.pi, 2000)\n",
    "y = torch.sin(x)"
   ],
   "id": "c2bd278e94d34ce7",
   "outputs": [],
   "execution_count": 22
  },
  {
   "metadata": {
    "ExecuteTime": {
     "end_time": "2024-04-29T13:55:16.990169Z",
     "start_time": "2024-04-29T13:55:16.985195Z"
    }
   },
   "cell_type": "code",
   "source": [
    "p = torch.tensor([1, 2, 3])\n",
    "xx = x.unsqueeze(-1).pow(p)"
   ],
   "id": "722263e24fdcb670",
   "outputs": [],
   "execution_count": 23
  },
  {
   "metadata": {
    "ExecuteTime": {
     "end_time": "2024-04-29T13:55:17.445098Z",
     "start_time": "2024-04-29T13:55:17.440328Z"
    }
   },
   "cell_type": "code",
   "source": [
    "model = torch.nn.Sequential(\n",
    "    torch.nn.Linear(3, 1),\n",
    "    torch.nn.Flatten(0, 1)\n",
    ")\n",
    "loss_fn = torch.nn.MSELoss(reduction='sum')"
   ],
   "id": "e6a94554c5ae028d",
   "outputs": [],
   "execution_count": 24
  },
  {
   "metadata": {
    "ExecuteTime": {
     "end_time": "2024-04-29T13:55:22.667579Z",
     "start_time": "2024-04-29T13:55:18.226317Z"
    }
   },
   "cell_type": "code",
   "source": [
    "learning_rate = 1e-3\n",
    "optimizer = torch.optim.RMSprop(model.parameters(), lr=learning_rate)\n",
    "for t in range(2000):\n",
    "\n",
    "    y_pred = model(xx)\n",
    "\n",
    "    loss = loss_fn(y_pred, y)\n",
    "    if t % 100 == 99:\n",
    "        print(t, loss.item())\n",
    "\n",
    "    optimizer.zero_grad()\n",
    "\n",
    "    loss.backward()\n",
    "\n",
    "    optimizer.step()"
   ],
   "id": "dca11a64ac8aeb30",
   "outputs": [
    {
     "name": "stdout",
     "output_type": "stream",
     "text": [
      "99 9366.98046875\n",
      "199 3064.72119140625\n",
      "299 1136.45166015625\n",
      "399 757.9189453125\n",
      "499 684.0242309570312\n",
      "599 609.7735595703125\n",
      "699 516.7772216796875\n",
      "799 414.8233337402344\n",
      "899 316.1908264160156\n",
      "999 229.16064453125\n",
      "1099 157.2514190673828\n",
      "1199 101.17269134521484\n",
      "1299 60.442970275878906\n",
      "1399 33.19093322753906\n",
      "1499 17.909664154052734\n",
      "1599 11.007946014404297\n",
      "1699 9.10103988647461\n",
      "1799 8.871928215026855\n",
      "1899 8.898624420166016\n",
      "1999 8.94917106628418\n"
     ]
    }
   ],
   "execution_count": 25
  },
  {
   "metadata": {
    "ExecuteTime": {
     "end_time": "2024-04-29T13:55:24.140579Z",
     "start_time": "2024-04-29T13:55:24.137488Z"
    }
   },
   "cell_type": "code",
   "source": "linear_layer = model[0]",
   "id": "260242e4cdb2c374",
   "outputs": [],
   "execution_count": 26
  },
  {
   "metadata": {
    "ExecuteTime": {
     "end_time": "2024-04-29T13:55:25.109122Z",
     "start_time": "2024-04-29T13:55:25.102209Z"
    }
   },
   "cell_type": "code",
   "source": "print(f'Result: y = {linear_layer.bias.item()} + {linear_layer.weight[:, 0].item()} x + {linear_layer.weight[:, 1].item()} x^2 + {linear_layer.weight[:, 2].item()} x^3')",
   "id": "d304b8f0ea76fa6a",
   "outputs": [
    {
     "name": "stdout",
     "output_type": "stream",
     "text": [
      "Result: y = -0.000465534336399287 + 0.8562537431716919 x + -0.0004655380907934159 x^2 + -0.09392527490854263 x^3\n"
     ]
    }
   ],
   "execution_count": 27
  },
  {
   "metadata": {},
   "cell_type": "code",
   "outputs": [],
   "execution_count": null,
   "source": "",
   "id": "29a4bc56a9751e1f"
  }
 ],
 "metadata": {
  "kernelspec": {
   "display_name": "Python 3",
   "language": "python",
   "name": "python3"
  },
  "language_info": {
   "codemirror_mode": {
    "name": "ipython",
    "version": 2
   },
   "file_extension": ".py",
   "mimetype": "text/x-python",
   "name": "python",
   "nbconvert_exporter": "python",
   "pygments_lexer": "ipython2",
   "version": "2.7.6"
  }
 },
 "nbformat": 4,
 "nbformat_minor": 5
}
